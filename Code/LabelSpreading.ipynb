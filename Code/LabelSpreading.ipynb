{
 "cells": [
  {
   "cell_type": "code",
   "execution_count": 97,
   "metadata": {},
   "outputs": [],
   "source": [
    "import numpy as np\n",
    "import pandas as pd\n",
    "from sklearn.model_selection import train_test_split\n",
    "from sklearn.metrics import classification_report \n",
    "from sklearn.metrics import accuracy_score\n",
    "from sklearn.semi_supervised import LabelSpreading\n",
    "%matplotlib qt"
   ]
  },
  {
   "cell_type": "code",
   "execution_count": 98,
   "metadata": {},
   "outputs": [],
   "source": [
    "df_label = pd.read_csv('Synthetic_AL_5.csv')\n",
    "df_unlabeled = pd.read_csv('agaricus-lepiota_labeled_columns.csv')"
   ]
  },
  {
   "cell_type": "code",
   "execution_count": 99,
   "metadata": {},
   "outputs": [
    {
     "data": {
      "text/plain": [
       "Edible?                        0\n",
       "Cap-shape                      0\n",
       "Cap-surface                    0\n",
       "Cap-color                      0\n",
       "Bruises?                       0\n",
       "Odor                           0\n",
       "Gill-attacment                 0\n",
       "Gill-spacing                   0\n",
       "Gill-size                      0\n",
       "Gill-color                     0\n",
       "Stalk-shape                    0\n",
       "Stalk-root                  2480\n",
       "Stalk-surface-above-ring       0\n",
       "Stalk-surface-below-ring       0\n",
       "Stalk-color-above-ring         0\n",
       "Stalk-color-below-ring         0\n",
       "Veil-Type                      0\n",
       "Veil-Color                     0\n",
       "Ring-number                    0\n",
       "Ring-Type                      0\n",
       "Spore-print-color              0\n",
       "Population                     0\n",
       "Habitat                        0\n",
       "dtype: int64"
      ]
     },
     "execution_count": 99,
     "metadata": {},
     "output_type": "execute_result"
    }
   ],
   "source": [
    "# Missing values on the unlabeled dataset have '?' instead of NaN\n",
    "np.sum(df_unlabeled.iloc[:,:] == '?')"
   ]
  },
  {
   "cell_type": "code",
   "execution_count": 100,
   "metadata": {},
   "outputs": [
    {
     "data": {
      "text/plain": [
       "Edible?                        0\n",
       "Cap-shape                      0\n",
       "Cap-surface                    0\n",
       "Cap-color                      0\n",
       "Bruises?                       0\n",
       "Odor                           0\n",
       "Gill-attacment                 0\n",
       "Gill-spacing                   0\n",
       "Gill-size                      0\n",
       "Gill-color                     0\n",
       "Stalk-shape                    0\n",
       "Stalk-root                  2480\n",
       "Stalk-surface-above-ring       0\n",
       "Stalk-surface-below-ring       0\n",
       "Stalk-color-above-ring         0\n",
       "Stalk-color-below-ring         0\n",
       "Veil-Type                      0\n",
       "Veil-Color                     0\n",
       "Ring-number                    0\n",
       "Ring-Type                      0\n",
       "Spore-print-color              0\n",
       "Population                     0\n",
       "Habitat                        0\n",
       "dtype: int64"
      ]
     },
     "execution_count": 100,
     "metadata": {},
     "output_type": "execute_result"
    }
   ],
   "source": [
    "# Replace '?' with np.nan\n",
    "indx = df_unlabeled.iloc[:,:] == '?'\n",
    "df_unlabeled.iloc[indx] = np.nan\n",
    "\n",
    "np.sum(pd.isnull(df_unlabeled))"
   ]
  },
  {
   "cell_type": "code",
   "execution_count": 101,
   "metadata": {},
   "outputs": [
    {
     "data": {
      "text/plain": [
       "Edible?                      0\n",
       "Cap-shape                    0\n",
       "Cap-surface                  5\n",
       "Cap-color                    0\n",
       "Bruises?                    25\n",
       "Odor                        25\n",
       "Gill-attacment               0\n",
       "Gill-spacing                 0\n",
       "Gill-size                    0\n",
       "Gill-color                   0\n",
       "Stalk-shape                  0\n",
       "Stalk-root                  95\n",
       "Stalk-surface-above-ring     0\n",
       "Stalk-surface-below-ring     0\n",
       "Stalk-color-above-ring       0\n",
       "Stalk-color-below-ring       0\n",
       "Veil-Type                    0\n",
       "Veil-Color                   0\n",
       "Ring-number                  0\n",
       "Ring-Type                    0\n",
       "Spore-print-color            0\n",
       "Population                  10\n",
       "Habitat                      0\n",
       "Species                      0\n",
       "dtype: int64"
      ]
     },
     "execution_count": 101,
     "metadata": {},
     "output_type": "execute_result"
    }
   ],
   "source": [
    "# Find how many missing values we have on the labeled dataset\n",
    "np.sum(pd.isnull(df_label))"
   ]
  },
  {
   "cell_type": "markdown",
   "metadata": {},
   "source": [
    "We see that there is a few missing values on our labeled dataset. We also see that a lot of the samples were missing the stalk-root feature. The absence of this feature might be helpful in identifying those samples which do have the feature.\n",
    "\n",
    "Because of this, we will fill the empty data with a value that represents that the data is missing ('?')"
   ]
  },
  {
   "cell_type": "code",
   "execution_count": 102,
   "metadata": {},
   "outputs": [],
   "source": [
    "df_label = df_label.fillna('?')\n",
    "df_unlabeled = df_unlabeled.fillna('?')"
   ]
  },
  {
   "cell_type": "markdown",
   "metadata": {},
   "source": [
    "For the Label Spreading algorithm we have to make one big dataset with our labeled and unlabeled datapoints. We will encode the known labels and then  assign the label of -1 to all unlabeled samples"
   ]
  },
  {
   "cell_type": "code",
   "execution_count": 103,
   "metadata": {},
   "outputs": [],
   "source": [
    "from sklearn.preprocessing import LabelEncoder\n",
    "\n",
    "# Encode the labels for our labeled dataset\n",
    "\n",
    "le = LabelEncoder()\n",
    "enc_label = le.fit_transform(df_label['Species'])\n",
    "\n",
    "df_label['Species'] = enc_label\n",
    "\n",
    "# Assign a dummy label to our unlabeled dataset\n",
    "\n",
    "df_unlabeled['Species'] = -1;\n",
    "\n",
    "# Combine our datasets\n",
    "\n",
    "df = pd.concat([df_label, df_unlabeled],ignore_index=True)\n",
    "\n",
    "df = df.sample(frac = 1)"
   ]
  },
  {
   "cell_type": "code",
   "execution_count": 104,
   "metadata": {},
   "outputs": [
    {
     "data": {
      "text/html": [
       "<div>\n",
       "<style scoped>\n",
       "    .dataframe tbody tr th:only-of-type {\n",
       "        vertical-align: middle;\n",
       "    }\n",
       "\n",
       "    .dataframe tbody tr th {\n",
       "        vertical-align: top;\n",
       "    }\n",
       "\n",
       "    .dataframe thead th {\n",
       "        text-align: right;\n",
       "    }\n",
       "</style>\n",
       "<table border=\"1\" class=\"dataframe\">\n",
       "  <thead>\n",
       "    <tr style=\"text-align: right;\">\n",
       "      <th></th>\n",
       "      <th>Edible?</th>\n",
       "      <th>Cap-shape</th>\n",
       "      <th>Cap-surface</th>\n",
       "      <th>Cap-color</th>\n",
       "      <th>Bruises?</th>\n",
       "      <th>Odor</th>\n",
       "      <th>Gill-attacment</th>\n",
       "      <th>Gill-spacing</th>\n",
       "      <th>Gill-size</th>\n",
       "      <th>Gill-color</th>\n",
       "      <th>...</th>\n",
       "      <th>Stalk-color-above-ring</th>\n",
       "      <th>Stalk-color-below-ring</th>\n",
       "      <th>Veil-Type</th>\n",
       "      <th>Veil-Color</th>\n",
       "      <th>Ring-number</th>\n",
       "      <th>Ring-Type</th>\n",
       "      <th>Spore-print-color</th>\n",
       "      <th>Population</th>\n",
       "      <th>Habitat</th>\n",
       "      <th>Species</th>\n",
       "    </tr>\n",
       "  </thead>\n",
       "  <tbody>\n",
       "    <tr>\n",
       "      <th>2390</th>\n",
       "      <td>e</td>\n",
       "      <td>x</td>\n",
       "      <td>y</td>\n",
       "      <td>n</td>\n",
       "      <td>t</td>\n",
       "      <td>n</td>\n",
       "      <td>f</td>\n",
       "      <td>c</td>\n",
       "      <td>b</td>\n",
       "      <td>u</td>\n",
       "      <td>...</td>\n",
       "      <td>w</td>\n",
       "      <td>p</td>\n",
       "      <td>p</td>\n",
       "      <td>w</td>\n",
       "      <td>o</td>\n",
       "      <td>p</td>\n",
       "      <td>n</td>\n",
       "      <td>y</td>\n",
       "      <td>d</td>\n",
       "      <td>-1</td>\n",
       "    </tr>\n",
       "    <tr>\n",
       "      <th>3124</th>\n",
       "      <td>p</td>\n",
       "      <td>x</td>\n",
       "      <td>f</td>\n",
       "      <td>g</td>\n",
       "      <td>f</td>\n",
       "      <td>f</td>\n",
       "      <td>f</td>\n",
       "      <td>c</td>\n",
       "      <td>b</td>\n",
       "      <td>h</td>\n",
       "      <td>...</td>\n",
       "      <td>p</td>\n",
       "      <td>p</td>\n",
       "      <td>p</td>\n",
       "      <td>w</td>\n",
       "      <td>o</td>\n",
       "      <td>l</td>\n",
       "      <td>h</td>\n",
       "      <td>y</td>\n",
       "      <td>p</td>\n",
       "      <td>-1</td>\n",
       "    </tr>\n",
       "    <tr>\n",
       "      <th>6306</th>\n",
       "      <td>p</td>\n",
       "      <td>x</td>\n",
       "      <td>s</td>\n",
       "      <td>n</td>\n",
       "      <td>f</td>\n",
       "      <td>f</td>\n",
       "      <td>f</td>\n",
       "      <td>c</td>\n",
       "      <td>n</td>\n",
       "      <td>b</td>\n",
       "      <td>...</td>\n",
       "      <td>p</td>\n",
       "      <td>w</td>\n",
       "      <td>p</td>\n",
       "      <td>w</td>\n",
       "      <td>o</td>\n",
       "      <td>e</td>\n",
       "      <td>w</td>\n",
       "      <td>v</td>\n",
       "      <td>l</td>\n",
       "      <td>-1</td>\n",
       "    </tr>\n",
       "    <tr>\n",
       "      <th>3524</th>\n",
       "      <td>e</td>\n",
       "      <td>f</td>\n",
       "      <td>y</td>\n",
       "      <td>n</td>\n",
       "      <td>t</td>\n",
       "      <td>n</td>\n",
       "      <td>f</td>\n",
       "      <td>c</td>\n",
       "      <td>b</td>\n",
       "      <td>u</td>\n",
       "      <td>...</td>\n",
       "      <td>g</td>\n",
       "      <td>w</td>\n",
       "      <td>p</td>\n",
       "      <td>w</td>\n",
       "      <td>o</td>\n",
       "      <td>p</td>\n",
       "      <td>k</td>\n",
       "      <td>v</td>\n",
       "      <td>d</td>\n",
       "      <td>-1</td>\n",
       "    </tr>\n",
       "    <tr>\n",
       "      <th>2038</th>\n",
       "      <td>e</td>\n",
       "      <td>x</td>\n",
       "      <td>f</td>\n",
       "      <td>g</td>\n",
       "      <td>f</td>\n",
       "      <td>n</td>\n",
       "      <td>f</td>\n",
       "      <td>w</td>\n",
       "      <td>b</td>\n",
       "      <td>h</td>\n",
       "      <td>...</td>\n",
       "      <td>w</td>\n",
       "      <td>w</td>\n",
       "      <td>p</td>\n",
       "      <td>w</td>\n",
       "      <td>o</td>\n",
       "      <td>e</td>\n",
       "      <td>n</td>\n",
       "      <td>s</td>\n",
       "      <td>g</td>\n",
       "      <td>-1</td>\n",
       "    </tr>\n",
       "  </tbody>\n",
       "</table>\n",
       "<p>5 rows × 24 columns</p>\n",
       "</div>"
      ],
      "text/plain": [
       "     Edible? Cap-shape Cap-surface Cap-color Bruises? Odor Gill-attacment  \\\n",
       "2390       e         x           y         n        t    n              f   \n",
       "3124       p         x           f         g        f    f              f   \n",
       "6306       p         x           s         n        f    f              f   \n",
       "3524       e         f           y         n        t    n              f   \n",
       "2038       e         x           f         g        f    n              f   \n",
       "\n",
       "     Gill-spacing Gill-size Gill-color  ... Stalk-color-above-ring  \\\n",
       "2390            c         b          u  ...                      w   \n",
       "3124            c         b          h  ...                      p   \n",
       "6306            c         n          b  ...                      p   \n",
       "3524            c         b          u  ...                      g   \n",
       "2038            w         b          h  ...                      w   \n",
       "\n",
       "     Stalk-color-below-ring Veil-Type Veil-Color Ring-number Ring-Type  \\\n",
       "2390                      p         p          w           o         p   \n",
       "3124                      p         p          w           o         l   \n",
       "6306                      w         p          w           o         e   \n",
       "3524                      w         p          w           o         p   \n",
       "2038                      w         p          w           o         e   \n",
       "\n",
       "     Spore-print-color Population Habitat Species  \n",
       "2390                 n          y       d      -1  \n",
       "3124                 h          y       p      -1  \n",
       "6306                 w          v       l      -1  \n",
       "3524                 k          v       d      -1  \n",
       "2038                 n          s       g      -1  \n",
       "\n",
       "[5 rows x 24 columns]"
      ]
     },
     "execution_count": 104,
     "metadata": {},
     "output_type": "execute_result"
    }
   ],
   "source": [
    "df.head()"
   ]
  },
  {
   "cell_type": "markdown",
   "metadata": {},
   "source": [
    "The next part is an important step. We known that edibility of all samples, which is good for someone that's out and about eating mushrooms in the wild. But if we are to predict the species of a mushroom just from it's physical characteristics we cannot possibly know the edibility of a mushroom without knowing it's species. Therefore we chose to drop this column before proceeding any further (no training of any kind has been done so far."
   ]
  },
  {
   "cell_type": "code",
   "execution_count": 105,
   "metadata": {},
   "outputs": [],
   "source": [
    "df = df.drop('Edible?',axis = 1)"
   ]
  },
  {
   "cell_type": "code",
   "execution_count": 106,
   "metadata": {},
   "outputs": [],
   "source": [
    "# Split the labels from the input dataset\n",
    "\n",
    "X = df.drop('Species',axis = 1)\n",
    "y = df['Species']"
   ]
  },
  {
   "cell_type": "code",
   "execution_count": 107,
   "metadata": {},
   "outputs": [],
   "source": [
    "# Before finally applying our algorithm we need to encode our inputs\n",
    "from sklearn.preprocessing import OneHotEncoder\n",
    "\n",
    "enc = OneHotEncoder()\n",
    "X = enc.fit_transform(X)"
   ]
  },
  {
   "cell_type": "code",
   "execution_count": 108,
   "metadata": {},
   "outputs": [],
   "source": [
    "# We deal with outliers \n",
    "from sklearn.ensemble import IsolationForest\n",
    "\n",
    "outlier_det = IsolationForest(contamination = 0.01)\n",
    "\n",
    "outlier_det.fit(X)\n",
    "\n",
    "X_clean = outlier_det.predict(X)\n",
    "\n",
    "X_with_outlier = X.toarray()\n",
    "\n",
    "X = X_with_outlier[list(X_clean == 1),:]\n",
    "y = y[list(X_clean == 1)]\n",
    "\n",
    "\n",
    "\n",
    "\n"
   ]
  },
  {
   "cell_type": "code",
   "execution_count": 109,
   "metadata": {},
   "outputs": [],
   "source": [
    "# We run a 40 PCA as this was the value at the elbow of the PCA analysis\n",
    "from sklearn.decomposition import PCA\n",
    "\n",
    "pca_16 = PCA(n_components=40)\n",
    "\n",
    "X = pca_16.fit_transform(X)\n"
   ]
  },
  {
   "cell_type": "code",
   "execution_count": 110,
   "metadata": {},
   "outputs": [],
   "source": [
    "# We will run the out-of-the-box label spreading algorithm\n",
    "from sklearn.semi_supervised import LabelSpreading\n",
    "\n",
    "label_prop_model = LabelSpreading(kernel = 'rbf', gamma = 23, alpha = 0.2)\n",
    "\n",
    "label_prop_model.fit(X,y)\n",
    "\n",
    "y_pred = label_prop_model.predict(X)\n",
    "\n",
    "y_color = y_pred\n",
    "\n",
    "y_pred = le.inverse_transform(y_pred)"
   ]
  },
  {
   "cell_type": "code",
   "execution_count": 111,
   "metadata": {},
   "outputs": [],
   "source": [
    "# We now run 3PCA on our dataset for visualization purposes\n",
    "\n",
    "pca = PCA(n_components=3)\n",
    "\n",
    "X_3pca = pca.fit_transform(X)"
   ]
  },
  {
   "cell_type": "markdown",
   "metadata": {},
   "source": [
    "For reference, we will plot the unlabeled dataset and the original labeled points"
   ]
  },
  {
   "cell_type": "code",
   "execution_count": 112,
   "metadata": {},
   "outputs": [],
   "source": [
    "# Plot the original datasets together\n",
    "import matplotlib.pyplot as plt\n",
    "\n",
    "fig = plt.figure()\n",
    "ax = fig.add_subplot(projection='3d')\n",
    "\n",
    "s = (y != -1).astype(int)\n",
    "\n",
    "#indx = np.where(s==1)[0]\n",
    "\n",
    "#alphas = s\n",
    "#alphas[:] = 0.5\n",
    "#alphas[indx] = 1\n",
    "\n",
    "# Plot\n",
    "ax.scatter(xs = X_3pca[:,0] , ys = X_3pca[:,1] , zs = X_3pca[:,2] , alpha = 0.2, c = s, cmap = 'coolwarm')\n",
    "\n",
    "plt.title('True labels')\n",
    "plt.show()"
   ]
  },
  {
   "cell_type": "code",
   "execution_count": 113,
   "metadata": {},
   "outputs": [],
   "source": [
    "# We will also plot the location of the outliers\n",
    "\n",
    "X_with_outliers = df.drop('Species',axis = 1)\n",
    "\n",
    "X_with_outliers = enc.transform(X_with_outliers)\n",
    "\n",
    "X_3pca_outlier = pca.fit_transform(X_with_outliers.toarray())\n",
    "\n",
    "fig = plt.figure()\n",
    "ax = fig.add_subplot(projection='3d')\n",
    "\n",
    "s = (X_clean == -1).astype(int)\n",
    "\n",
    "#indx = np.where(s==1)[0]\n",
    "\n",
    "#alphas = s\n",
    "#alphas[:] = 0.5\n",
    "#alphas[indx] = 1\n",
    "\n",
    "# Plot\n",
    "ax.scatter(xs = X_3pca_outlier[:,0] , ys = X_3pca_outlier[:,1] , zs = X_3pca_outlier[:,2] , alpha = 0.2, c = s, cmap = 'coolwarm')\n",
    "\n",
    "plt.title('Outliers')\n",
    "plt.show()\n",
    "\n",
    "\n"
   ]
  },
  {
   "cell_type": "code",
   "execution_count": 136,
   "metadata": {},
   "outputs": [
    {
     "name": "stderr",
     "output_type": "stream",
     "text": [
      "<ipython-input-136-7223df2fbde6>:3: RuntimeWarning: More than 20 figures have been opened. Figures created through the pyplot interface (`matplotlib.pyplot.figure`) are retained until explicitly closed and may consume too much memory. (To control this warning, see the rcParam `figure.max_open_warning`).\n",
      "  fig = plt.figure()\n"
     ]
    }
   ],
   "source": [
    "# Plot the 3 PC with the predicted labels\n",
    "\n",
    "fig = plt.figure()\n",
    "ax = fig.add_subplot(projection='3d')\n",
    "\n",
    "# Which species do we want to see\n",
    "\n",
    "sp = 22\n",
    "\n",
    "s = (y_color==sp).astype(int)\n",
    "\n",
    "# Plot\n",
    "ax.scatter(xs = X_3pca[:,0] , ys = X_3pca[:,1] , zs = X_3pca[:,2] , alpha = 0.2, c = s, cmap = 'coolwarm')\n",
    "#Axes3D.scatter(xs = X_3pca[:,0] , ys = X_3pca[:,1] , zs = X_3pca[:,2] ,zdir ='z', c=y_pred)\n",
    "plt.title(le.inverse_transform([sp])[0])\n",
    "plt.show()"
   ]
  },
  {
   "cell_type": "code",
   "execution_count": 137,
   "metadata": {},
   "outputs": [
    {
     "name": "stderr",
     "output_type": "stream",
     "text": [
      "<ipython-input-137-b7e900a9c4c1>:9: RuntimeWarning: More than 20 figures have been opened. Figures created through the pyplot interface (`matplotlib.pyplot.figure`) are retained until explicitly closed and may consume too much memory. (To control this warning, see the rcParam `figure.max_open_warning`).\n",
      "  fig, (ax1) = plt.subplots(1, 1)\n"
     ]
    },
    {
     "data": {
      "text/plain": [
       "[<matplotlib.axis.XTick at 0x23682387520>,\n",
       " <matplotlib.axis.XTick at 0x236823871f0>,\n",
       " <matplotlib.axis.XTick at 0x23685ce7cd0>,\n",
       " <matplotlib.axis.XTick at 0x23681053400>,\n",
       " <matplotlib.axis.XTick at 0x23681051430>,\n",
       " <matplotlib.axis.XTick at 0x236823626d0>,\n",
       " <matplotlib.axis.XTick at 0x23681053af0>]"
      ]
     },
     "execution_count": 137,
     "metadata": {},
     "output_type": "execute_result"
    }
   ],
   "source": [
    "from sklearn.metrics import silhouette_score\n",
    "from sklearn.metrics import silhouette_samples\n",
    "import matplotlib.cm as cm\n",
    "\n",
    "silhouette_avg = silhouette_score(X, y_color)\n",
    "\n",
    "sample_silhouette_values = silhouette_samples(X, y_color)\n",
    "\n",
    "fig, (ax1) = plt.subplots(1, 1)\n",
    "fig.set_size_inches(7, 20)\n",
    "\n",
    "# The 1st subplot is the silhouette plot\n",
    "# The silhouette coefficient can range from -1, 1 but in this example all\n",
    "# lie within [-0.1, 1]\n",
    "ax1.set_xlim([-0.35, 0.8])\n",
    "ax1.set_ylim([0, len(X) + (np.size(list(set(y_color))) + 1) * 140])\n",
    "\n",
    "y_lower = 10\n",
    "for i in list(set(y_color)):\n",
    "    # Aggregate the silhouette scores for samples belonging to\n",
    "    # cluster i, and sort them\n",
    "    ith_cluster_silhouette_values = \\\n",
    "        sample_silhouette_values[y_color == i]\n",
    "\n",
    "    ith_cluster_silhouette_values.sort()\n",
    "\n",
    "    size_cluster_i = ith_cluster_silhouette_values.shape[0]\n",
    "    y_upper = y_lower + size_cluster_i\n",
    "\n",
    "    color = cm.nipy_spectral(float(i) / np.size(list(set(y_color))))\n",
    "    ax1.fill_betweenx(np.arange(y_lower, y_upper),\n",
    "                          0, ith_cluster_silhouette_values,\n",
    "                          facecolor=color, edgecolor=color, alpha=0.7)\n",
    "\n",
    "    # Label the silhouette plots with their cluster numbers at the middle\n",
    "    ax1.text(-0.3, y_lower + 0.5 * size_cluster_i, le.inverse_transform([i])[0])\n",
    "\n",
    "    # Compute the new y_lower for next plot\n",
    "    y_lower = y_upper + 150 # 10 for the 0 samples\n",
    "\n",
    "ax1.set_title(\"The silhouette plot for the various clusters.\")\n",
    "ax1.set_xlabel(\"The silhouette coefficient values\")\n",
    "ax1.set_ylabel(\"Cluster label\")\n",
    "\n",
    "# The vertical line for average silhouette score of all the values\n",
    "ax1.axvline(x=silhouette_avg, color=\"red\", linestyle=\"--\")\n",
    "\n",
    "ax1.set_yticks([])  # Clear the yaxis labels / ticks\n",
    "ax1.set_xticks([-0.1, 0, 0.2, 0.4, 0.6, 0.8, 1])"
   ]
  },
  {
   "cell_type": "markdown",
   "metadata": {},
   "source": [
    "Now that we have the infrastructure of our model, and a metric to evaluate it (mean silhouette coefficient), we can optimize the model for the highest performance. High performance in our case Would mean that all sets of mushroom labels are more or less evenly distributed and all are part of a well defined cluster."
   ]
  },
  {
   "cell_type": "code",
   "execution_count": 195,
   "metadata": {},
   "outputs": [
    {
     "data": {
      "text/plain": [
       "GridSearchCV(estimator=LabelSpreading(),\n",
       "             param_grid={'alpha': [0.2, 0.5, 0.7], 'gamma': [10, 20],\n",
       "                         'kernel': ['rbf'], 'n_jobs': [-1]})"
      ]
     },
     "execution_count": 195,
     "metadata": {},
     "output_type": "execute_result"
    }
   ],
   "source": [
    "from sklearn.model_selection import GridSearchCV\n",
    "from sklearn.metrics import make_scorer\n",
    "\n",
    "#X = df.drop('Species',axis = 1)\n",
    "#X = enc.fit_transform(X)\n",
    "y = df['Species']\n",
    "\n",
    "silh_score = make_scorer(silhouette_score)\n",
    "\n",
    "#parameters = {'kernel':('knn','rbf'), 'gamma': np.linspace(0,1,11), 'n_neighbors': np.arange(23), 'n_jobs': [-1]}\n",
    "parameters = {'kernel':['rbf'], 'gamma': [10,20], 'alpha': [0.2,0.5,0.7], 'n_jobs': [-1]}\n",
    "\n",
    "clf = GridSearchCV(label_prop_model,parameters)#,scoring = silh_score)\n",
    "\n",
    "clf.fit(X.toarray(),y_color)\n",
    "#(np.array(y)).reshape(-1, 1)"
   ]
  },
  {
   "cell_type": "code",
   "execution_count": 196,
   "metadata": {},
   "outputs": [
    {
     "data": {
      "text/plain": [
       "{'mean_fit_time': array([2.14140482, 2.24591174, 2.94278245, 3.28548503, 4.02091799,\n",
       "        4.56457705]),\n",
       " 'std_fit_time': array([0.08852708, 0.01276748, 0.10005957, 0.10280252, 0.09108414,\n",
       "        0.1360113 ]),\n",
       " 'mean_score_time': array([0.23157973, 0.23590355, 0.22447634, 0.22839527, 0.23010011,\n",
       "        0.23843503]),\n",
       " 'std_score_time': array([0.01804504, 0.00619902, 0.01799067, 0.01543918, 0.02035703,\n",
       "        0.01300039]),\n",
       " 'param_alpha': masked_array(data=[0.2, 0.2, 0.5, 0.5, 0.7, 0.7],\n",
       "              mask=[False, False, False, False, False, False],\n",
       "        fill_value='?',\n",
       "             dtype=object),\n",
       " 'param_gamma': masked_array(data=[10, 20, 10, 20, 10, 20],\n",
       "              mask=[False, False, False, False, False, False],\n",
       "        fill_value='?',\n",
       "             dtype=object),\n",
       " 'param_kernel': masked_array(data=['rbf', 'rbf', 'rbf', 'rbf', 'rbf', 'rbf'],\n",
       "              mask=[False, False, False, False, False, False],\n",
       "        fill_value='?',\n",
       "             dtype=object),\n",
       " 'param_n_jobs': masked_array(data=[-1, -1, -1, -1, -1, -1],\n",
       "              mask=[False, False, False, False, False, False],\n",
       "        fill_value='?',\n",
       "             dtype=object),\n",
       " 'params': [{'alpha': 0.2, 'gamma': 10, 'kernel': 'rbf', 'n_jobs': -1},\n",
       "  {'alpha': 0.2, 'gamma': 20, 'kernel': 'rbf', 'n_jobs': -1},\n",
       "  {'alpha': 0.5, 'gamma': 10, 'kernel': 'rbf', 'n_jobs': -1},\n",
       "  {'alpha': 0.5, 'gamma': 20, 'kernel': 'rbf', 'n_jobs': -1},\n",
       "  {'alpha': 0.7, 'gamma': 10, 'kernel': 'rbf', 'n_jobs': -1},\n",
       "  {'alpha': 0.7, 'gamma': 20, 'kernel': 'rbf', 'n_jobs': -1}],\n",
       " 'split0_test_score': array([0.97390777, 0.97330097, 0.9690534 , 0.9684466 , 0.96541262,\n",
       "        0.96480583]),\n",
       " 'split1_test_score': array([0.97815534, 0.97815534, 0.97330097, 0.97330097, 0.96601942,\n",
       "        0.96601942]),\n",
       " 'split2_test_score': array([0.97572816, 0.97572816, 0.97269417, 0.97269417, 0.96541262,\n",
       "        0.96541262]),\n",
       " 'split3_test_score': array([0.98240291, 0.98240291, 0.97936893, 0.97936893, 0.96966019,\n",
       "        0.96966019]),\n",
       " 'split4_test_score': array([0.97935641, 0.97935641, 0.9708561 , 0.9708561 , 0.96660595,\n",
       "        0.96660595]),\n",
       " 'mean_test_score': array([0.97791012, 0.97778876, 0.97305472, 0.97293336, 0.96662216,\n",
       "        0.9665008 ]),\n",
       " 'std_test_score': array([0.00293656, 0.00310704, 0.00349011, 0.00363469, 0.00158235,\n",
       "        0.00169007]),\n",
       " 'rank_test_score': array([1, 2, 3, 4, 5, 6])}"
      ]
     },
     "execution_count": 196,
     "metadata": {},
     "output_type": "execute_result"
    }
   ],
   "source": [
    "clf.cv_results_"
   ]
  },
  {
   "cell_type": "code",
   "execution_count": 120,
   "metadata": {},
   "outputs": [
    {
     "data": {
      "text/plain": [
       "0.8714673490949123"
      ]
     },
     "execution_count": 120,
     "metadata": {},
     "output_type": "execute_result"
    }
   ],
   "source": [
    "clf.best_score_"
   ]
  },
  {
   "cell_type": "code",
   "execution_count": 194,
   "metadata": {},
   "outputs": [
    {
     "data": {
      "text/plain": [
       "{'alpha': 0.2, 'gamma': 20, 'kernel': 'rbf', 'n_jobs': -1, 'n_neighbors': 7}"
      ]
     },
     "execution_count": 194,
     "metadata": {},
     "output_type": "execute_result"
    }
   ],
   "source": [
    "clf.best_params_"
   ]
  }
 ],
 "metadata": {
  "kernelspec": {
   "display_name": "Python 3",
   "language": "python",
   "name": "python3"
  },
  "language_info": {
   "codemirror_mode": {
    "name": "ipython",
    "version": 3
   },
   "file_extension": ".py",
   "mimetype": "text/x-python",
   "name": "python",
   "nbconvert_exporter": "python",
   "pygments_lexer": "ipython3",
   "version": "3.8.3"
  }
 },
 "nbformat": 4,
 "nbformat_minor": 4
}
