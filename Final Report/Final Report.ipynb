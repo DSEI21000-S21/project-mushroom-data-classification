{
 "cells": [
  {
   "cell_type": "markdown",
   "metadata": {},
   "source": [
    "# Mushroom Data Classification"
   ]
  },
  {
   "cell_type": "markdown",
   "metadata": {},
   "source": [
    "## Abstract\n",
    "----\n",
    "The fungal "
   ]
  },
  {
   "cell_type": "markdown",
   "metadata": {},
   "source": [
    "## Introduction"
   ]
  },
  {
   "cell_type": "markdown",
   "metadata": {},
   "source": [
    "## Background\n",
    "----\n",
    "Discuss other relevant work done here (bulk of references)"
   ]
  },
  {
   "cell_type": "markdown",
   "metadata": {},
   "source": [
    "## Data\n",
    "----\n",
    "### UCI Mushroom Dataset\n",
    "\n",
    "Dataset can be accessed on [UCI's ML repository]( https://archive.ics.uci.edu/ml/datasets/mushroom)\n",
    "\n",
    "Donor: Jeff Schlimmer (Jeffrey.Schlimmer@a.gp.cs.cmu.edu)\n",
    "\n",
    "#### Dataset Information:\n",
    "This data set includes 8124 categorical descriptions of hypothetical samples corresponding to 23 species of gilled mushrooms in the Agaricus and Lepiota Family. Each species is identified as definitely edible, definitely poisonous, or of unknown edibility and not recommended. This latter class was combined with the poisonous one. The hypothetical samples on this dataset were drawn from The Audubon Society Field Guide to North American Mushroms [2]\n",
    "\n",
    "#### Attribute Information:\n",
    "\n",
    "This dataset contains 22 attrubutes (23 if we include the edibility of the mushroom). \n",
    "\n",
    "1. **cap-shape:** bell, conical, convex, flat, knobbed, sunken\n",
    "2. **cap-surface:** fibrous, grooves, scaly, smooth\n",
    "3. **cap-color:** brown, buff, cinnamon, gray, green, pink, purple, red, white, yellow\n",
    "4. **bruises?:** bruises, no\n",
    "5. **odor:** almond, anise, creosote, fishy, foul, musty, none, pungent, spicy\n",
    "6. **gill-attachment:** attached, descending, free, notched\n",
    "7. **gill-spacing:** close, crowded, distant\n",
    "8. **gill-size:** broad, narrow\n",
    "9. **gill-color:** black, brown, buff, chocolate, gray, green, orange, pink, purple, red, white, yellow\n",
    "10. **stalk-shape:** enlarging, tapering\n",
    "11. **stalk-root:** bulbous, club, cup, equal, rhizomorphs, rooted, *missing (represented as '?')*\n",
    "12. **stalk-surface-above-ring:** fibrous, scaly, silky, smooth\n",
    "13. **stalk-surface-below-ring:** fibrous, scaly, silky, smooth\n",
    "14. **stalk-color-above-ring:** brown, buff, cinnamon, gray, orange, pink, red, white, yellow\n",
    "15. **stalk-color-below-ring:** brown, buff, cinnamon, gray, orange, pink, red, white, yellow\n",
    "16. **veil-type:** partial, universal\n",
    "17. **veil-color:** brown, orange, white, yellow\n",
    "18. **ring-number:** none, one, two\n",
    "19. **ring-type:** cobwebby, evanescent, flaring, large, none,pendant, sheathing, zone\n",
    "20. **spore-print-color:** black ,brown, buff, chocolate, green, orange, purple, white, yellow\n",
    "21. **population:** abundant, clustered, numerous, scattered, several, solitary\n",
    "22. **habitat:** grasses, leaves, meadows, paths, urban, waste, woods\n",
    "23. **edibility:** edible, poisonous\n",
    "\n",
    "\n",
    "### Synthetic Dataset\n",
    "\n",
    "While the original dataset contains enough information to train a model to classify samples into edibility, it is not enough to be used for species classification as the there is no species label. In order to label this dataset, we found it appropiate to use semi-supervised learning algorithms. Although the preferred option would be to label all 8124 samples, it would take an excessive amount of time and we might need the help of some experts are mushrooms are famous for being very hard to classify. We can make use of the fact that only samples of the Agaricus and Lepiota species were included in the data set, along with the access to the primary source of the dataset [2].\n",
    "\n",
    "Below we observe how the data is formatted in the source book:\n",
    "\n",
    "![Sample from the book](/project-mushroom-data-classification/Final%20Report/Images/Book-sample.PNG)\n",
    "\n",
    "Thus, we created a simple algorithm that works as follows:\n",
    "\n",
    "    1. A species is selected\n",
    "    2. For each feature of this species, one of the possible categorical values for that given species is selected \n",
    "    3. Algorithm ends when n-samples for that species have been generated\n",
    "\n",
    "Below we can observe how the output of the [algorithm](https://github.com/DSEI21000-S21/project-mushroom-data-classification/blob/main/Code/Species_sampler.ipynb) looks like **Species is the input, features are the output**\n",
    "\n",
    "![Sample synthetic data](http://localhost:8888/files/Documents/GitHub/project-mushroom-data-classification/Final%20Report/Images/Synthetic.PNG?_xsrf=2%7C940b97c4%7C611769c3e977ecf50a95dd6a4a5da647%7C1621482506)\n",
    "\n",
    "\n",
    "We must clarify that this algorithm cannot be used to assign a species label to a datapoint, instead it uses a species label to generate samples that could belong to that species. There is no way we can predict a species by inputting features without using machine learning or a similar concept. If we made a look up table we will certainly end up with more than one species being a perfectly good candidate for the datapoint, thus we need machinery that can make sense of more abstract data structures (Machine Learning).\n",
    "  \n",
    "For our purposes, we chose to generate 5 samples per species (23 species total), totaling 115 samples\n",
    "\n",
    "### Data Cleaning\n"
   ]
  },
  {
   "cell_type": "markdown",
   "metadata": {},
   "source": [
    "## Methods\n",
    "----\n",
    "### EDA\n",
    "\n",
    "### \n",
    "\n",
    "### Unsupervised Learning\n",
    "\n",
    "### Semi-upervised Learning\n",
    "\n",
    "### Model optimization and grid search"
   ]
  },
  {
   "cell_type": "markdown",
   "metadata": {},
   "source": [
    "## Evaluation\n",
    "----\n",
    "### KNN as a baseline classifier\n",
    "\n",
    "### Supervised Learning\n",
    "\n",
    "### Silhouette plot analysis"
   ]
  },
  {
   "cell_type": "markdown",
   "metadata": {},
   "source": [
    "## Conclusion\n",
    "----"
   ]
  },
  {
   "cell_type": "markdown",
   "metadata": {},
   "source": [
    "## Attribution\n",
    "----\n",
    "Here we put bar graphs from Guthub showing our commits over time and self-report how many code-hours of work are visible in the repo."
   ]
  },
  {
   "cell_type": "markdown",
   "metadata": {},
   "source": [
    "## Bibliography\n",
    "----\n",
    "1. https://archive.ics.uci.edu/ml/datasets/mushroom\n",
    "2.  Alfred A. Knopf, The Audubon Society Field Guide to North American Mushrooms (1981). G. H. Lincoff (Pres.), New York"
   ]
  },
  {
   "cell_type": "markdown",
   "metadata": {},
   "source": [
    "## Appendix\n",
    "----\n",
    "We can put the extra work we did here: Edibility classification and its EDA/evaluation"
   ]
  },
  {
   "cell_type": "code",
   "execution_count": null,
   "metadata": {},
   "outputs": [],
   "source": []
  }
 ],
 "metadata": {
  "kernelspec": {
   "display_name": "Python 3",
   "language": "python",
   "name": "python3"
  },
  "language_info": {
   "codemirror_mode": {
    "name": "ipython",
    "version": 3
   },
   "file_extension": ".py",
   "mimetype": "text/x-python",
   "name": "python",
   "nbconvert_exporter": "python",
   "pygments_lexer": "ipython3",
   "version": "3.8.3"
  }
 },
 "nbformat": 4,
 "nbformat_minor": 4
}
