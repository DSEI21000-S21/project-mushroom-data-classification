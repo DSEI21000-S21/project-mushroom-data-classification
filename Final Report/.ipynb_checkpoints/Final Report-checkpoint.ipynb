{
 "cells": [
  {
   "cell_type": "markdown",
   "metadata": {},
   "source": [
    "# Mushroom Data Classification"
   ]
  },
  {
   "cell_type": "markdown",
   "metadata": {},
   "source": [
    "## Abstract\n",
    "----\n",
    "The fungal "
   ]
  },
  {
   "cell_type": "markdown",
   "metadata": {},
   "source": [
    "## Introduction"
   ]
  },
  {
   "cell_type": "markdown",
   "metadata": {},
   "source": [
    "## Background\n",
    "----\n",
    "Discuss other relevant work done here (bulk of references)"
   ]
  },
  {
   "cell_type": "markdown",
   "metadata": {},
   "source": [
    "## Data\n",
    "----\n",
    "### UCI Mushroom Dataset\n",
    "\n",
    "Dataset can be accessed on [UCI's ML repository]( https://archive.ics.uci.edu/ml/datasets/mushroom)\n",
    "\n",
    "Donor: Jeff Schlimmer (Jeffrey.Schlimmer@a.gp.cs.cmu.edu)\n",
    "\n",
    "#### Dataset Information:\n",
    "This data set includes 8124 categorical descriptions of hypothetical samples corresponding to 23 species of gilled mushrooms in the Agaricus and Lepiota Family. Each species is identified as definitely edible, definitely poisonous, or of unknown edibility and not recommended. This latter class was combined with the poisonous one. The hypothetical samples on this dataset were drawn from The Audubon Society Field Guide to North American Mushroms [2]\n",
    "\n",
    "#### Attribute Information:\n",
    "\n",
    "This dataset contains 22 attrubutes (23 if we include the edibility of the mushroom). \n",
    "\n",
    "1. **cap-shape:** bell, conical, convex, flat, knobbed, sunken\n",
    "2. **cap-surface:** fibrous, grooves, scaly, smooth\n",
    "3. **cap-color:** brown, buff, cinnamon, gray, green, pink, purple, red, white, yellow\n",
    "4. **bruises?:** bruises, no\n",
    "5. **odor:** almond, anise, creosote, fishy, foul, musty, none, pungent, spicy\n",
    "6. **gill-attachment:** attached, descending, free, notched\n",
    "7. **gill-spacing:** close, crowded, distant\n",
    "8. **gill-size:** broad, narrow\n",
    "9. **gill-color:** black, brown, buff, chocolate, gray, green, orange, pink, purple, red, white, yellow\n",
    "10. **stalk-shape:** enlarging, tapering\n",
    "11. **stalk-root:** bulbous, club, cup, equal, rhizomorphs, rooted, *missing (represented as '?')*\n",
    "12. **stalk-surface-above-ring:** fibrous, scaly, silky, smooth\n",
    "13. **stalk-surface-below-ring:** fibrous, scaly, silky, smooth\n",
    "14. **stalk-color-above-ring:** brown, buff, cinnamon, gray, orange, pink, red, white, yellow\n",
    "15. **stalk-color-below-ring:** brown, buff, cinnamon, gray, orange, pink, red, white, yellow\n",
    "16. **veil-type:** partial, universal\n",
    "17. **veil-color:** brown, orange, white, yellow\n",
    "18. **ring-number:** none, one, two\n",
    "19. **ring-type:** cobwebby, evanescent, flaring, large, none,pendant, sheathing, zone\n",
    "20. **spore-print-color:** black ,brown, buff, chocolate, green, orange, purple, white, yellow\n",
    "21. **population:** abundant, clustered, numerous, scattered, several, solitary\n",
    "22. **habitat:** grasses, leaves, meadows, paths, urban, waste, woods\n",
    "23. **edibility:** edible, poisonous\n",
    "\n",
    "\n",
    "### Synthetic Dataset\n",
    "\n",
    "While the original dataset contains enough information to train a model to classify samples into edibility, it is not enough to be used for species classification as the there is no species label. In order to label this dataset, we found it appropiate to use semi-supervised learning algorithms. Although the preferred option would be to label all 8124 samples, it would take an excessive amount of time and we might need the help of some experts are mushrooms are famous for being very hard to classify. We can make use of the fact that only samples of the Agaricus and Lepiota species were included in the data set, along with the access to the primary source of the dataset [2].\n",
    "\n",
    "Below we observe how the data is formatted in the source book:\n",
    "\n",
    "![Sample from the book](./Images/Book-sample.PNG)\n",
    "_**Figure 1: Excerpt from the field guide from which the dataset is based[2]**_\n",
    "\n",
    "Thus, we created a simple algorithm that works as follows:\n",
    "\n",
    "    1. A species is selected\n",
    "    2. For each feature of this species, one of the possible categorical values for that given species is selected \n",
    "    3. Algorithm ends when n-samples for that species have been generated\n",
    "\n",
    "Below we can observe how the output of the [algorithm](https://github.com/DSEI21000-S21/project-mushroom-data-classification/blob/main/Code/Species_sampler.ipynb) looks like **Species is the input, features are the output**\n",
    "\n",
    "![Sample synthetic data](./Images/Synthetic.PNG)\n",
    "_**Figure 2: Sample of synthetical dataset with only 5 features for the Lepiota americana species**_\n",
    "\n",
    "We must clarify that this algorithm cannot be used to assign a species label to a datapoint, instead it uses a species label to generate samples that could belong to that species. There is no way we can predict a species by inputting features without using machine learning or a similar concept. If we made a look up table we will certainly end up with more than one species being a perfectly good candidate for the datapoint, thus we need machinery that can make sense of more abstract data structures (Machine Learning).\n",
    "  \n",
    "For our purposes, we chose to generate 5 samples per species (23 species total), totaling 115 samples\n",
    "\n",
    "### Data Cleaning\n"
   ]
  },
  {
   "cell_type": "markdown",
   "metadata": {},
   "source": [
    "## Methods\n",
    "----\n",
    "### EDA\n",
    "\n",
    "### \n",
    "\n",
    "### Unsupervised Learning\n",
    "\n",
    "#### Model optimization and grid search\n",
    "\n",
    "### Semi-upervised Learning\n",
    "\n",
    "Unsupervised learning showed that there are some well defined clusters that make up our data set (Fig.x refer to 3PCA AND sillhouette diagram). Thus we can assume that the clusters correspond to a difference between some mushroom species, thus if we have enough clusters we may be able to find which clusters crorespond to each species. \n",
    "\n",
    "Supervised learning approaches would be the most efficient to make out clusters that have complex structures (a cluster within a cluster, overlapping clusters). But labeling over 8000 samples would be very time consuming for the scope of this project, and it would require the help of seasoned mycologists to classify mushroom species. Thus, purely supervised methods are not a valid option.\n",
    "\n",
    "Semi-supervised algorithms allow us to learn from our unlabaled data by using a very small subset of labeled samples in combination to the structure of the data itself. Though, our data has to satisfy at least one of the following assupmtions [3]\n",
    "\n",
    "1. Points that are close to each other are more likely to share a label: We are dealing with species, and members that belong to the same species (share a label) will have common traits (which make up the features on our dataset).\n",
    "\n",
    "2. Data tend to form discrete clusters: As seen on the previous section, unsupervised learing managed to capture hidden structures on our data (clusters).\n",
    "\n",
    "scikit-learn offers two types of semi-supervised algorithms: [SelfTrainingClassifier](https://scikit-learn.org/stable/modules/generated/sklearn.semi_supervised.SelfTrainingClassifier.html#sklearn.semi_supervised.SelfTrainingClassifier) and [LabelSpreading](https://scikit-learn.org/stable/modules/generated/sklearn.semi_supervised.LabelSpreading.html#sklearn.semi_supervised.LabelSpreading). The self training classifier works by adapting a supervised scheme to function as a semi-supervised classifier by iteratively predicting pseudo-labels for the unlabeled data and adding them to the training set until all dataset has been assigned a label. Unfortunately, this algorithm was not avaliable to use at the time of the making of this project (we tried using the source code but that didn't work) and it would be too time consuming to recreate it for the scope of this project. Thus, the only semi-supervised model we used was label spreading. \n",
    "\n",
    "The label spreading algorithm iteratively creates a similarity matrix from which the points closer to the original labeled points are related to the closest unlabeled points. The algorithm stops until all points have been labeled. \n",
    "\n",
    "![True Labels](./Images/True-Labels.PNG)\n",
    "_**Figure 3: Plot of the labeled and unlabeled datapoints using 3 principal components. Red points are points we made, while the bluepoints come from the UCI dataset**_\n",
    "\n",
    "#### Model optimization and grid search\n",
    "\n",
    "Our [model](https://github.com/DSEI21000-S21/project-mushroom-data-classification/blob/main/Code/LabelSpreading.ipynb) Optimized the following parameters:\n",
    "\n",
    "1. **kernel {*'knn','rbf'*}:** The rbf kernel produces a fully connected graph, while knn produces a sparse graph. Since our dataset is not incredibly big, we will use the rbf kernel (not included in gridsearch as the the answer is obvious).\n",
    "2. **gamma (*float*):** This parameter adjusts the complexity of the rbf kernel, the higher the number the more complex the model but it might overfit, while a number too low will leave to high bias.\n",
    "3. **n_neighbors (*int*):** This parameter adjusts the behaviour of the knn kernel and complexity of the boundaries. \n",
    "4. **alpha (*float*):** A value between 0 and 1. A value of zero will keep the original labeled data as is, while a value of 1 will allow the model to change the orignal labels while velues in between will set a threshold for original label replacement.\n",
    "\n",
    "The best parameters were chosen to be, \n",
    "\n",
    "* kernel: *'rbf'*\n",
    "* gamma: *1*\n",
    "* alpha: *0.2*"
   ]
  },
  {
   "cell_type": "markdown",
   "metadata": {},
   "source": [
    "## Evaluation\n",
    "----\n",
    "### KNN as a baseline classifier\n",
    "\n",
    "#### Silhouette plot analysis\n",
    "\n",
    "### Agglomerative clustering results\n",
    "\n",
    "#### Silhouette plot analysis\n",
    "\n",
    "### Semi-supervised learning results\n",
    "\n",
    "Our semi-supervised model successfully assigned a label to all the points in the unlabeled dataset. Unfortunately, the model struggled to differentiate 9 species from other clusters as seen in **Figs. X and X**.\n",
    "\n",
    "![Good cluster](./Images/good_cluster.PNG)\n",
    "\n",
    "_**Figure X: Plot of the points labeled as Agaricus haemorrhoidarius (red) using 3 principal components. We observe that the cluster follows the structure of the unlabeled data thus we can be condident that the clustering is correct**_\n",
    "\n",
    "![Bad cluster](./Images/bad_cluster.PNG)\n",
    "\n",
    "_**Figure X: Plot of the points labeled as Lepiota artodisca (red) using 3 principal components. We observe that the cluster does not have many points in it**_\n",
    "\n",
    "The following species had poor labeling (few datapoints in their cluster):\n",
    "\n",
    "1. *Agaricus subrutilescens*\n",
    "2. *Lepiota acutesquamosa*\n",
    "3. *Lepiota artodisca*\n",
    "4. *Lepiota cepaestipes*\n",
    "5. *Lepiota clypeolaria*\n",
    "6. *Lepiota josserandi*\n",
    "7. *Lepiota lutea*\n",
    "8. *Lepiota procera*\n",
    "9. *Lepiota rachodes*\n",
    "\n",
    "#### Silhouette plot analysis \n",
    "\n",
    "The silhouette plot seen in **Fig.X** shows the quality of the labeling obtained using our semi-supervised model. It uses scikit-learn's [silhouette_score](https://scikit-learn.org/stable/modules/generated/sklearn.metrics.silhouette_score.html#sklearn.metrics.silhouette_score) and [silhouette_samples](https://scikit-learn.org/stable/modules/generated/sklearn.metrics.silhouette_samples.html#sklearn.metrics.silhouette_samples) functions. Each line represents the sulhouette score for a single datapoint, lines of the same color have the same labels. Scores range from -1 to 1. A positive value corresponds to some certainty that the datapoint belongs to its cluster, a value of zero corresponds to total uncertainty about the label of the datapoint, and a negative value corresponds to some certainty that the datapoint does not belong to its cluster.\n",
    "\n",
    "![Silhouette Plot](./Images/silhouette_plot.PNG)\n",
    "_**Figure X: Sillhouete plot of the labeled clusters obtained using the optimized Label Spreading algorithm. The dotted red line corresponds to the average silhouette score for all datapoints. We can clearly see which species the model had a hard time with**_\n",
    "\n",
    "### Supervised learning\n"
   ]
  },
  {
   "cell_type": "markdown",
   "metadata": {},
   "source": [
    "## Conclusion\n",
    "----\n",
    "\n",
    "test"
   ]
  },
  {
   "cell_type": "markdown",
   "metadata": {},
   "source": [
    "## Attribution\n",
    "----\n",
    "Here we put bar graphs from Guthub showing our commits over time and self-report how many code-hours of work are visible in the repo."
   ]
  },
  {
   "cell_type": "markdown",
   "metadata": {},
   "source": [
    "## Bibliography\n",
    "----\n",
    "1. https://archive.ics.uci.edu/ml/datasets/mushroom\n",
    "2.  Alfred A. Knopf, The Audubon Society Field Guide to North American Mushrooms (1981). G. H. Lincoff (Pres.), New York\n",
    "3. Vapnik, V.; Chervonenkis, A. (1974). Theory of Pattern Recognition (in Russian). Moscow: Nauka. cited in Chapelle, Schölkopf & Zienin 2006, p. 3\n"
   ]
  },
  {
   "cell_type": "markdown",
   "metadata": {},
   "source": [
    "## Appendix\n",
    "----\n",
    "We can put the extra work we did here: Edibility classification and its EDA/evaluation"
   ]
  },
  {
   "cell_type": "code",
   "execution_count": null,
   "metadata": {},
   "outputs": [],
   "source": []
  }
 ],
 "metadata": {
  "kernelspec": {
   "display_name": "Python 3",
   "language": "python",
   "name": "python3"
  },
  "language_info": {
   "codemirror_mode": {
    "name": "ipython",
    "version": 3
   },
   "file_extension": ".py",
   "mimetype": "text/x-python",
   "name": "python",
   "nbconvert_exporter": "python",
   "pygments_lexer": "ipython3",
   "version": "3.8.3"
  }
 },
 "nbformat": 4,
 "nbformat_minor": 4
}
